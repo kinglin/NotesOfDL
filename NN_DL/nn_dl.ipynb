{
 "cells": [
  {
   "cell_type": "code",
   "execution_count": 1,
   "metadata": {
    "scrolled": true
   },
   "outputs": [
    {
     "name": "stdout",
     "output_type": "stream",
     "text": [
      "249725.17156727583\n",
      "0.2086620330810547\n"
     ]
    }
   ],
   "source": [
    "import numpy as np\n",
    "import time\n",
    "\n",
    "a = np.random.rand(1000000)\n",
    "b = np.random.rand(1000000)\n",
    "\n",
    "tic = time.time()\n",
    "c = np.dot(a,b)\n",
    "toc = time.time()\n",
    "\n",
    "print(c)\n",
    "print(toc-tic)"
   ]
  },
  {
   "cell_type": "code",
   "execution_count": 25,
   "metadata": {},
   "outputs": [
    {
     "name": "stdout",
     "output_type": "stream",
     "text": [
      "[ 5 -1  3  2]\n",
      "[148.4131591    0.36787944  20.08553692   7.3890561 ]\n",
      "[5 0 3 2]\n",
      "[ 0.2        -1.          0.33333333  0.5       ]\n"
     ]
    }
   ],
   "source": [
    "v = np.array([5,-1,3,2])\n",
    "print(v)\n",
    "u = np.exp(v)\n",
    "print(u)\n",
    "u = np.maximum(v,0)\n",
    "print(u)\n",
    "u = 1/v\n",
    "print(u)"
   ]
  },
  {
   "cell_type": "code",
   "execution_count": 4,
   "metadata": {},
   "outputs": [
    {
     "name": "stdout",
     "output_type": "stream",
     "text": [
      "[[ 0.19180667]\n",
      " [ 1.93684812]\n",
      " [ 1.8862069 ]\n",
      " [ 1.03116984]\n",
      " [-0.81668472]]\n",
      "(5, 1)\n",
      "[[ 0.19180667  1.93684812  1.8862069   1.03116984 -0.81668472]]\n",
      "(1, 5)\n"
     ]
    }
   ],
   "source": [
    "a = np.random.randn(5,1)\n",
    "print(a)\n",
    "print(a.shape)\n",
    "print(a.T)\n",
    "print(a.T.shape)"
   ]
  },
  {
   "cell_type": "code",
   "execution_count": 11,
   "metadata": {},
   "outputs": [
    {
     "name": "stdout",
     "output_type": "stream",
     "text": [
      "[[9.07623207]]\n",
      "[[4.2293468]]\n"
     ]
    }
   ],
   "source": [
    "print(np.dot(a.T,a))\n",
    "print(np.sum( a, axis = 0, keepdims = True ))\n",
    "assert(a.shape==(5,1))"
   ]
  },
  {
   "cell_type": "code",
   "execution_count": null,
   "metadata": {},
   "outputs": [],
   "source": []
  }
 ],
 "metadata": {
  "kernelspec": {
   "display_name": "Python 3",
   "language": "python",
   "name": "python3"
  },
  "language_info": {
   "codemirror_mode": {
    "name": "ipython",
    "version": 3
   },
   "file_extension": ".py",
   "mimetype": "text/x-python",
   "name": "python",
   "nbconvert_exporter": "python",
   "pygments_lexer": "ipython3",
   "version": "3.6.4"
  }
 },
 "nbformat": 4,
 "nbformat_minor": 2
}
